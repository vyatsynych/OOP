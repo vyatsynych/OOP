{
 "cells": [
  {
   "cell_type": "code",
   "execution_count": 9,
   "metadata": {},
   "outputs": [
    {
     "name": "stdout",
     "output_type": "stream",
     "text": [
      "87\n"
     ]
    }
   ],
   "source": [
    "a = 8\n",
    "b = 79\n",
    "C = a + b\n",
    "print(C)"
   ]
  },
  {
   "cell_type": "code",
   "execution_count": 10,
   "metadata": {},
   "outputs": [
    {
     "name": "stdout",
     "output_type": "stream",
     "text": [
      "Значення:  True\n",
      "Вивід True\n"
     ]
    }
   ],
   "source": [
    "print(\"Значення: \", True)\n",
    "print(f\"Вивід {True}\")"
   ]
  },
  {
   "cell_type": "code",
   "execution_count": 11,
   "metadata": {},
   "outputs": [
    {
     "name": "stdout",
     "output_type": "stream",
     "text": [
      "65 є рівними 65\n",
      "88 різні значення 83\n"
     ]
    }
   ],
   "source": [
    "print(abs(-65), f\"є рівними {abs(65)}\")\n",
    "print(abs(88), f\"різні значення {abs(83)}\")"
   ]
  },
  {
   "cell_type": "code",
   "execution_count": 12,
   "metadata": {},
   "outputs": [
    {
     "name": "stdout",
     "output_type": "stream",
     "text": [
      "На позиції 0 знаходиться буква g\n",
      "На позиції 1 знаходиться буква h\n",
      "На позиції 2 знаходиться буква d\n"
     ]
    }
   ],
   "source": [
    "letters = [\"g\", \"h\", \"d\"]\n",
    "for i in range(len(letters)):\n",
    "    print(f\"На позиції {i} знаходиться буква {letters[i]}\")"
   ]
  },
  {
   "cell_type": "code",
   "execution_count": 13,
   "metadata": {},
   "outputs": [
    {
     "name": "stdout",
     "output_type": "stream",
     "text": [
      "Значить А=True\n"
     ]
    }
   ],
   "source": [
    "A = True\n",
    "print(\"Значить А=True\" if A else \"Значить А=False\")"
   ]
  },
  {
   "cell_type": "code",
   "execution_count": 14,
   "metadata": {},
   "outputs": [
    {
     "name": "stdout",
     "output_type": "stream",
     "text": [
      "division by zero\n",
      "А вот воно що!\n"
     ]
    }
   ],
   "source": [
    "A = 0\n",
    "try:\n",
    "    print(\"Що буде якщо\", 76/A, \"?\")\n",
    "except Exception as e:\n",
    "    print(e)\n",
    "finally:\n",
    "    print(\"А вот воно що!\")"
   ]
  },
  {
   "cell_type": "code",
   "execution_count": 15,
   "metadata": {},
   "outputs": [
    {
     "name": "stdout",
     "output_type": "stream",
     "text": [
      "# Звіт до другої лабораторної\n",
      "\n",
      "## Тема: Основи *Python*\n",
      "\n"
     ]
    }
   ],
   "source": [
    "with open(\"README.md\", \"r\", encoding=\"(utf-8)\") as f:\n",
    "    for line in f:\n",
    "        print(line)"
   ]
  },
  {
   "cell_type": "code",
   "execution_count": 16,
   "metadata": {},
   "outputs": [
    {
     "name": "stdout",
     "output_type": "stream",
     "text": [
      "Проста функція: <function <lambda> at 0x000001EAB05327A0>\n",
      "Це її виклик: Цей код написав: Значення Текст\n"
     ]
    }
   ],
   "source": [
    "this_is_lambda = lambda first, last: f'Цей код написав: {first} {last}'\n",
    "print(\"Проста функція:\", this_is_lambda)\n",
    "print(\"Це її виклик:\", this_is_lambda('Значення', 'Текст'))"
   ]
  }
 ],
 "metadata": {
  "kernelspec": {
   "display_name": "Python 3",
   "language": "python",
   "name": "python3"
  },
  "language_info": {
   "codemirror_mode": {
    "name": "ipython",
    "version": 3
   },
   "file_extension": ".py",
   "mimetype": "text/x-python",
   "name": "python",
   "nbconvert_exporter": "python",
   "pygments_lexer": "ipython3",
   "version": "3.13.0"
  }
 },
 "nbformat": 4,
 "nbformat_minor": 2
}
