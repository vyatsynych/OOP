{
 "cells": [
  {
   "cell_type": "code",
   "execution_count": 2,
   "metadata": {},
   "outputs": [
    {
     "name": "stdout",
     "output_type": "stream",
     "text": [
      "Владислав почала програмувати 2024-11-04 23:33:24. Kyiv - найкраще місто!\n",
      "Поточний рік: 2024, Пора року: Осінь\n"
     ]
    }
   ],
   "source": [
    "from datetime import datetime\n",
    "\n",
    "name = \"Владислав\"\n",
    "location = \"Kyiv\"\n",
    "current_date = datetime.now()\n",
    "month = current_date.month\n",
    "\n",
    "# Визначення пори року\n",
    "if month in [12, 1, 2]:\n",
    "    season = \"Зима\"\n",
    "elif month in [3, 4, 5]:\n",
    "    season = \"Весна\"\n",
    "elif month in [6, 7, 8]:\n",
    "    season = \"Літо\"\n",
    "else:\n",
    "    season = \"Осінь\"\n",
    "\n",
    "print(f\"{name} почала програмувати {current_date.strftime('%Y-%m-%d %H:%M:%S')}. {location} - найкраще місто!\")\n",
    "print(f\"Поточний рік: {current_date.year}, Пора року: {season}\")\n"
   ]
  },
  {
   "cell_type": "markdown",
   "metadata": {},
   "source": [
    "## Моя перша програма\n"
   ]
  }
 ],
 "metadata": {
  "kernelspec": {
   "display_name": "Python 3",
   "language": "python",
   "name": "python3"
  },
  "language_info": {
   "codemirror_mode": {
    "name": "ipython",
    "version": 3
   },
   "file_extension": ".py",
   "mimetype": "text/x-python",
   "name": "python",
   "nbconvert_exporter": "python",
   "pygments_lexer": "ipython3",
   "version": "3.13.0"
  }
 },
 "nbformat": 4,
 "nbformat_minor": 2
}
